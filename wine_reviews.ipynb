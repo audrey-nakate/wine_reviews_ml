{
 "cells": [
  {
   "attachments": {},
   "cell_type": "markdown",
   "metadata": {},
   "source": [
    "GROUP MEMBERS\n",
    "NAKATE AUDREY             2100700695 21/U/0695\n",
    "OLOO WILLIAM              2100719370 21/U/19370/PS\n",
    "NAGGAYI LYTHN KIBIRIGE    2100723414 21/U/23414/PS\n",
    "KIRABO NAKALEMBE PATRICIA 2100711033 21/U/11033/PS\n",
    "SEMPIJJA IBRAHIM          2100712598 21/U/12598/PS"
   ]
  },
  {
   "attachments": {},
   "cell_type": "markdown",
   "metadata": {},
   "source": [
    "We are building models that predict the points wine will get based on the rest of the features of the dataset i.e. descripiton, designation, points, price and taster_name among other features."
   ]
  },
  {
   "cell_type": "code",
   "execution_count": 1,
   "metadata": {},
   "outputs": [],
   "source": [
    "import pandas as pd\n",
    "from sklearn.metrics import accuracy_score"
   ]
  },
  {
   "cell_type": "code",
   "execution_count": 2,
   "metadata": {},
   "outputs": [
    {
     "name": "stdout",
     "output_type": "stream",
     "text": [
      "(22387, 13)\n"
     ]
    },
    {
     "data": {
      "text/html": [
       "<div>\n",
       "<style scoped>\n",
       "    .dataframe tbody tr th:only-of-type {\n",
       "        vertical-align: middle;\n",
       "    }\n",
       "\n",
       "    .dataframe tbody tr th {\n",
       "        vertical-align: top;\n",
       "    }\n",
       "\n",
       "    .dataframe thead th {\n",
       "        text-align: right;\n",
       "    }\n",
       "</style>\n",
       "<table border=\"1\" class=\"dataframe\">\n",
       "  <thead>\n",
       "    <tr style=\"text-align: right;\">\n",
       "      <th></th>\n",
       "      <th>country</th>\n",
       "      <th>description</th>\n",
       "      <th>designation</th>\n",
       "      <th>points</th>\n",
       "      <th>price</th>\n",
       "      <th>province</th>\n",
       "      <th>region_1</th>\n",
       "      <th>region_2</th>\n",
       "      <th>taster_name</th>\n",
       "      <th>taster_twitter_handle</th>\n",
       "      <th>title</th>\n",
       "      <th>variety</th>\n",
       "      <th>winery</th>\n",
       "    </tr>\n",
       "  </thead>\n",
       "  <tbody>\n",
       "    <tr>\n",
       "      <th>4</th>\n",
       "      <td>US</td>\n",
       "      <td>Much like the regular bottling from 2012, this...</td>\n",
       "      <td>Vintner's Reserve Wild Child Block</td>\n",
       "      <td>87</td>\n",
       "      <td>65.0</td>\n",
       "      <td>Oregon</td>\n",
       "      <td>Willamette Valley</td>\n",
       "      <td>Willamette Valley</td>\n",
       "      <td>Paul Gregutt</td>\n",
       "      <td>@paulgwine</td>\n",
       "      <td>Sweet Cheeks 2012 Vintner's Reserve Wild Child...</td>\n",
       "      <td>Pinot Noir</td>\n",
       "      <td>Sweet Cheeks</td>\n",
       "    </tr>\n",
       "    <tr>\n",
       "      <th>10</th>\n",
       "      <td>US</td>\n",
       "      <td>Soft, supple plum envelopes an oaky structure ...</td>\n",
       "      <td>Mountain Cuvée</td>\n",
       "      <td>87</td>\n",
       "      <td>19.0</td>\n",
       "      <td>California</td>\n",
       "      <td>Napa Valley</td>\n",
       "      <td>Napa</td>\n",
       "      <td>Virginie Boone</td>\n",
       "      <td>@vboone</td>\n",
       "      <td>Kirkland Signature 2011 Mountain Cuvée Caberne...</td>\n",
       "      <td>Cabernet Sauvignon</td>\n",
       "      <td>Kirkland Signature</td>\n",
       "    </tr>\n",
       "    <tr>\n",
       "      <th>23</th>\n",
       "      <td>US</td>\n",
       "      <td>This wine from the Geneseo district offers aro...</td>\n",
       "      <td>Signature Selection</td>\n",
       "      <td>87</td>\n",
       "      <td>22.0</td>\n",
       "      <td>California</td>\n",
       "      <td>Paso Robles</td>\n",
       "      <td>Central Coast</td>\n",
       "      <td>Matt Kettmann</td>\n",
       "      <td>@mattkettmann</td>\n",
       "      <td>Bianchi 2011 Signature Selection Merlot (Paso ...</td>\n",
       "      <td>Merlot</td>\n",
       "      <td>Bianchi</td>\n",
       "    </tr>\n",
       "    <tr>\n",
       "      <th>25</th>\n",
       "      <td>US</td>\n",
       "      <td>Oak and earth intermingle around robust aromas...</td>\n",
       "      <td>King Ridge Vineyard</td>\n",
       "      <td>87</td>\n",
       "      <td>69.0</td>\n",
       "      <td>California</td>\n",
       "      <td>Sonoma Coast</td>\n",
       "      <td>Sonoma</td>\n",
       "      <td>Virginie Boone</td>\n",
       "      <td>@vboone</td>\n",
       "      <td>Castello di Amorosa 2011 King Ridge Vineyard P...</td>\n",
       "      <td>Pinot Noir</td>\n",
       "      <td>Castello di Amorosa</td>\n",
       "    </tr>\n",
       "    <tr>\n",
       "      <th>35</th>\n",
       "      <td>US</td>\n",
       "      <td>As with many of the Erath 2010 vineyard design...</td>\n",
       "      <td>Hyland</td>\n",
       "      <td>86</td>\n",
       "      <td>50.0</td>\n",
       "      <td>Oregon</td>\n",
       "      <td>McMinnville</td>\n",
       "      <td>Willamette Valley</td>\n",
       "      <td>Paul Gregutt</td>\n",
       "      <td>@paulgwine</td>\n",
       "      <td>Erath 2010 Hyland Pinot Noir (McMinnville)</td>\n",
       "      <td>Pinot Noir</td>\n",
       "      <td>Erath</td>\n",
       "    </tr>\n",
       "  </tbody>\n",
       "</table>\n",
       "</div>"
      ],
      "text/plain": [
       "   country                                        description  \\\n",
       "4       US  Much like the regular bottling from 2012, this...   \n",
       "10      US  Soft, supple plum envelopes an oaky structure ...   \n",
       "23      US  This wine from the Geneseo district offers aro...   \n",
       "25      US  Oak and earth intermingle around robust aromas...   \n",
       "35      US  As with many of the Erath 2010 vineyard design...   \n",
       "\n",
       "                           designation  points  price    province  \\\n",
       "4   Vintner's Reserve Wild Child Block      87   65.0      Oregon   \n",
       "10                      Mountain Cuvée      87   19.0  California   \n",
       "23                 Signature Selection      87   22.0  California   \n",
       "25                 King Ridge Vineyard      87   69.0  California   \n",
       "35                              Hyland      86   50.0      Oregon   \n",
       "\n",
       "             region_1           region_2     taster_name  \\\n",
       "4   Willamette Valley  Willamette Valley    Paul Gregutt   \n",
       "10        Napa Valley               Napa  Virginie Boone   \n",
       "23        Paso Robles      Central Coast   Matt Kettmann   \n",
       "25       Sonoma Coast             Sonoma  Virginie Boone   \n",
       "35        McMinnville  Willamette Valley    Paul Gregutt   \n",
       "\n",
       "   taster_twitter_handle                                              title  \\\n",
       "4            @paulgwine   Sweet Cheeks 2012 Vintner's Reserve Wild Child...   \n",
       "10               @vboone  Kirkland Signature 2011 Mountain Cuvée Caberne...   \n",
       "23         @mattkettmann  Bianchi 2011 Signature Selection Merlot (Paso ...   \n",
       "25               @vboone  Castello di Amorosa 2011 King Ridge Vineyard P...   \n",
       "35           @paulgwine          Erath 2010 Hyland Pinot Noir (McMinnville)   \n",
       "\n",
       "               variety               winery  \n",
       "4           Pinot Noir         Sweet Cheeks  \n",
       "10  Cabernet Sauvignon   Kirkland Signature  \n",
       "23              Merlot              Bianchi  \n",
       "25          Pinot Noir  Castello di Amorosa  \n",
       "35          Pinot Noir                Erath  "
      ]
     },
     "execution_count": 2,
     "metadata": {},
     "output_type": "execute_result"
    }
   ],
   "source": [
    "df = pd.read_csv(\"wine-reviews.csv\", index_col=0)\n",
    "df = df.dropna() #dropping all rows with missing data for any of the features.\n",
    "print(df.shape)\n",
    "df.head()"
   ]
  },
  {
   "attachments": {},
   "cell_type": "markdown",
   "metadata": {},
   "source": [
    "TRANSFORMING ALL TEXT DATA MINUS THE DESCRIPTION COLUMNS TO THEIR NUMERICAL EQUIVALENTS"
   ]
  },
  {
   "cell_type": "code",
   "execution_count": 3,
   "metadata": {},
   "outputs": [],
   "source": [
    "#Transforming all text data columns to numerical equivalents\n",
    "from sklearn.preprocessing import LabelEncoder\n",
    "label_encoder = LabelEncoder()\n",
    "df[\"country\"] = label_encoder.fit_transform(df[\"country\"])\n",
    "df[\"designation\"] = label_encoder.fit_transform(df[\"designation\"])\n",
    "df[\"province\"] = label_encoder.fit_transform(df[\"province\"])\n",
    "df[\"region_1\"] = label_encoder.fit_transform(df[\"region_1\"])\n",
    "df[\"region_2\"] = label_encoder.fit_transform(df[\"region_2\"])\n",
    "df[\"taster_name\"] = label_encoder.fit_transform(df[\"taster_name\"])\n",
    "df[\"taster_twitter_handle\"] = label_encoder.fit_transform(df[\"taster_twitter_handle\"])\n",
    "df[\"title\"] = label_encoder.fit_transform(df[\"title\"])\n",
    "df[\"variety\"] = label_encoder.fit_transform(df[\"variety\"])\n",
    "df[\"winery\"] = label_encoder.fit_transform(df[\"winery\"])"
   ]
  },
  {
   "cell_type": "code",
   "execution_count": 4,
   "metadata": {},
   "outputs": [
    {
     "data": {
      "text/html": [
       "<div>\n",
       "<style scoped>\n",
       "    .dataframe tbody tr th:only-of-type {\n",
       "        vertical-align: middle;\n",
       "    }\n",
       "\n",
       "    .dataframe tbody tr th {\n",
       "        vertical-align: top;\n",
       "    }\n",
       "\n",
       "    .dataframe thead th {\n",
       "        text-align: right;\n",
       "    }\n",
       "</style>\n",
       "<table border=\"1\" class=\"dataframe\">\n",
       "  <thead>\n",
       "    <tr style=\"text-align: right;\">\n",
       "      <th></th>\n",
       "      <th>country</th>\n",
       "      <th>description</th>\n",
       "      <th>designation</th>\n",
       "      <th>points</th>\n",
       "      <th>price</th>\n",
       "      <th>province</th>\n",
       "      <th>region_1</th>\n",
       "      <th>region_2</th>\n",
       "      <th>taster_name</th>\n",
       "      <th>taster_twitter_handle</th>\n",
       "      <th>title</th>\n",
       "      <th>variety</th>\n",
       "      <th>winery</th>\n",
       "    </tr>\n",
       "  </thead>\n",
       "  <tbody>\n",
       "    <tr>\n",
       "      <th>4</th>\n",
       "      <td>0</td>\n",
       "      <td>Much like the regular bottling from 2012, this...</td>\n",
       "      <td>8991</td>\n",
       "      <td>87</td>\n",
       "      <td>65.0</td>\n",
       "      <td>2</td>\n",
       "      <td>164</td>\n",
       "      <td>16</td>\n",
       "      <td>6</td>\n",
       "      <td>4</td>\n",
       "      <td>17492</td>\n",
       "      <td>111</td>\n",
       "      <td>2368</td>\n",
       "    </tr>\n",
       "    <tr>\n",
       "      <th>10</th>\n",
       "      <td>0</td>\n",
       "      <td>Soft, supple plum envelopes an oaky structure ...</td>\n",
       "      <td>5382</td>\n",
       "      <td>87</td>\n",
       "      <td>19.0</td>\n",
       "      <td>0</td>\n",
       "      <td>82</td>\n",
       "      <td>6</td>\n",
       "      <td>10</td>\n",
       "      <td>6</td>\n",
       "      <td>9958</td>\n",
       "      <td>19</td>\n",
       "      <td>1343</td>\n",
       "    </tr>\n",
       "    <tr>\n",
       "      <th>23</th>\n",
       "      <td>0</td>\n",
       "      <td>This wine from the Geneseo district offers aro...</td>\n",
       "      <td>7415</td>\n",
       "      <td>87</td>\n",
       "      <td>22.0</td>\n",
       "      <td>0</td>\n",
       "      <td>93</td>\n",
       "      <td>1</td>\n",
       "      <td>4</td>\n",
       "      <td>3</td>\n",
       "      <td>2114</td>\n",
       "      <td>74</td>\n",
       "      <td>274</td>\n",
       "    </tr>\n",
       "    <tr>\n",
       "      <th>25</th>\n",
       "      <td>0</td>\n",
       "      <td>Oak and earth intermingle around robust aromas...</td>\n",
       "      <td>4234</td>\n",
       "      <td>87</td>\n",
       "      <td>69.0</td>\n",
       "      <td>0</td>\n",
       "      <td>132</td>\n",
       "      <td>12</td>\n",
       "      <td>10</td>\n",
       "      <td>6</td>\n",
       "      <td>3424</td>\n",
       "      <td>111</td>\n",
       "      <td>462</td>\n",
       "    </tr>\n",
       "    <tr>\n",
       "      <th>35</th>\n",
       "      <td>0</td>\n",
       "      <td>As with many of the Erath 2010 vineyard design...</td>\n",
       "      <td>3866</td>\n",
       "      <td>86</td>\n",
       "      <td>50.0</td>\n",
       "      <td>2</td>\n",
       "      <td>67</td>\n",
       "      <td>16</td>\n",
       "      <td>6</td>\n",
       "      <td>4</td>\n",
       "      <td>6528</td>\n",
       "      <td>111</td>\n",
       "      <td>851</td>\n",
       "    </tr>\n",
       "  </tbody>\n",
       "</table>\n",
       "</div>"
      ],
      "text/plain": [
       "    country                                        description  designation  \\\n",
       "4         0  Much like the regular bottling from 2012, this...         8991   \n",
       "10        0  Soft, supple plum envelopes an oaky structure ...         5382   \n",
       "23        0  This wine from the Geneseo district offers aro...         7415   \n",
       "25        0  Oak and earth intermingle around robust aromas...         4234   \n",
       "35        0  As with many of the Erath 2010 vineyard design...         3866   \n",
       "\n",
       "    points  price  province  region_1  region_2  taster_name  \\\n",
       "4       87   65.0         2       164        16            6   \n",
       "10      87   19.0         0        82         6           10   \n",
       "23      87   22.0         0        93         1            4   \n",
       "25      87   69.0         0       132        12           10   \n",
       "35      86   50.0         2        67        16            6   \n",
       "\n",
       "    taster_twitter_handle  title  variety  winery  \n",
       "4                       4  17492      111    2368  \n",
       "10                      6   9958       19    1343  \n",
       "23                      3   2114       74     274  \n",
       "25                      6   3424      111     462  \n",
       "35                      4   6528      111     851  "
      ]
     },
     "execution_count": 4,
     "metadata": {},
     "output_type": "execute_result"
    }
   ],
   "source": [
    "df.head()"
   ]
  },
  {
   "attachments": {},
   "cell_type": "markdown",
   "metadata": {},
   "source": [
    "PREPROCESSING THE TEXT DATA TO REMOVE UNNCESSARY WORDS AND SYMBOLS AND TO CHANGE ALL THE LETTERS TO LOWERCASE"
   ]
  },
  {
   "cell_type": "code",
   "execution_count": 5,
   "metadata": {},
   "outputs": [
    {
     "name": "stderr",
     "output_type": "stream",
     "text": [
      "[nltk_data] Downloading package stopwords to\n",
      "[nltk_data]     C:\\Users\\Admin\\AppData\\Roaming\\nltk_data...\n",
      "[nltk_data]   Package stopwords is already up-to-date!\n",
      "[nltk_data] Downloading package punkt to\n",
      "[nltk_data]     C:\\Users\\Admin\\AppData\\Roaming\\nltk_data...\n",
      "[nltk_data]   Package punkt is already up-to-date!\n"
     ]
    }
   ],
   "source": [
    "#remove less important words from the description for purposes of classification\n",
    "import nltk\n",
    "nltk.download('stopwords')\n",
    "nltk.download('punkt')\n",
    "from nltk.corpus import stopwords\n",
    "from nltk.stem import PorterStemmer\n",
    "from nltk.tokenize import word_tokenize\n",
    "for i in df.description:\n",
    "    tokens = word_tokenize(i)\n",
    "    # Changing all the letters to lowercase \n",
    "    tokens_low = [w.lower() for w in tokens]\n",
    "    # Removing all non-alphabetics from the descriptions \n",
    "    words = [word for word in tokens_low if word.isalpha()]\n",
    "    #Removing stopwords\n",
    "    stopwords = nltk.corpus.stopwords.words('english')\n",
    "    moreStopwords = [\"drink\" , 'now', 'wine' ,'flavour']\n",
    "    stopwords.extend(moreStopwords)\n",
    "    filter_sen = [w for w in words if not w in stopwords]\n",
    "    #Using stemming for normalisation\n",
    "    porter  = PorterStemmer()\n",
    "    stemmed = [porter.stem(word) for word in filter_sen]\n",
    "    #to join the words into sentences again and replace them with their originals in the dataframe\n",
    "    sentence = \" \".join(w for w in stemmed)\n",
    "    df = df.replace(i , sentence)"
   ]
  },
  {
   "attachments": {},
   "cell_type": "markdown",
   "metadata": {},
   "source": [
    "APPLYING TfidVectorizer TO THE TEXT DATA"
   ]
  },
  {
   "cell_type": "code",
   "execution_count": 6,
   "metadata": {},
   "outputs": [],
   "source": [
    "#applying TfidVectorizer to the text data\n",
    "from sklearn.feature_extraction.text import TfidfVectorizer\n",
    "vectorizer = TfidfVectorizer(stop_words='english', max_df=0.7)\n",
    "description_vectorized =  vectorizer.fit_transform(df[\"description\"].values.astype('U'))\n",
    "df[\"description\"] = description_vectorized.toarray()"
   ]
  },
  {
   "attachments": {},
   "cell_type": "markdown",
   "metadata": {},
   "source": [
    "SPLITTING THE DATA INTO TRAINING AND TEST SETS"
   ]
  },
  {
   "cell_type": "code",
   "execution_count": 7,
   "metadata": {},
   "outputs": [
    {
     "name": "stdout",
     "output_type": "stream",
     "text": [
      "The total training data is (15670, 13)\n",
      "The total test data is (6717, 13)\n"
     ]
    }
   ],
   "source": [
    "#split into training and test data\n",
    "from sklearn.model_selection import train_test_split\n",
    "target = df['points']\n",
    "df.drop(['points'], axis=1)\n",
    "X_train, X_test, y_train, y_test = train_test_split(df, target, test_size = 0.3, random_state=100)\n",
    "print(\"The total training data is {}\".format(X_train.shape))\n",
    "print(\"The total test data is {}\".format(X_test.shape))"
   ]
  },
  {
   "attachments": {},
   "cell_type": "markdown",
   "metadata": {},
   "source": [
    "SCALING THE FEATURES\n",
    "This will ensure that features with larger values do not affect the prediction disproportionately compared to the smaller values"
   ]
  },
  {
   "cell_type": "code",
   "execution_count": 8,
   "metadata": {},
   "outputs": [],
   "source": [
    "\n",
    "from sklearn.preprocessing import StandardScaler\n",
    "scaler = StandardScaler()\n",
    "X_train = scaler.fit_transform(X_train)\n",
    "X_test = scaler.transform(X_test)"
   ]
  },
  {
   "attachments": {},
   "cell_type": "markdown",
   "metadata": {},
   "source": [
    "THE SUPPORT VECTOR MACHINE MODEL"
   ]
  },
  {
   "cell_type": "code",
   "execution_count": 9,
   "metadata": {},
   "outputs": [
    {
     "data": {
      "text/plain": [
       "99.94044960547863"
      ]
     },
     "execution_count": 9,
     "metadata": {},
     "output_type": "execute_result"
    }
   ],
   "source": [
    "#ALGORITHM 1 - SVM\n",
    "#using the support vector machine algorithm with linear approach to build the model on the testing and training data\n",
    "from sklearn.svm import SVC\n",
    "\n",
    "svm_classifier = SVC(kernel='linear', random_state=100)  \n",
    "#training the model\n",
    "svm_classifier.fit(X_train, y_train)\n",
    "#testing the model\n",
    "svm_y_pred = svm_classifier.predict(X_test)\n",
    "#Calculating the accuraccy score of the algorithm\n",
    "100* accuracy_score(y_test, svm_y_pred)"
   ]
  },
  {
   "attachments": {},
   "cell_type": "markdown",
   "metadata": {},
   "source": [
    "THE LOGISTIC REGRESSION MODEL"
   ]
  },
  {
   "cell_type": "code",
   "execution_count": 10,
   "metadata": {},
   "outputs": [
    {
     "data": {
      "text/plain": [
       "91.27586720262022"
      ]
     },
     "execution_count": 10,
     "metadata": {},
     "output_type": "execute_result"
    }
   ],
   "source": [
    "#ALGORITHM 2 - LOGISTIC REGRESSION\n",
    "from sklearn.linear_model import LogisticRegression\n",
    "\n",
    "lr_classifier = LogisticRegression(max_iter=1000)\n",
    "lr_classifier.fit(X_train, y_train)\n",
    "\n",
    "#predicting the test set results\n",
    "lr_y_pred = lr_classifier.predict(X_test)\n",
    "#Calculating the accuracy of the algorithm\n",
    "100* accuracy_score(y_test, lr_y_pred)"
   ]
  },
  {
   "attachments": {},
   "cell_type": "markdown",
   "metadata": {},
   "source": [
    "THE NAIVE BAYES MODEL"
   ]
  },
  {
   "cell_type": "code",
   "execution_count": 11,
   "metadata": {},
   "outputs": [
    {
     "data": {
      "text/plain": [
       "99.95533720410897"
      ]
     },
     "execution_count": 11,
     "metadata": {},
     "output_type": "execute_result"
    }
   ],
   "source": [
    "#A probabilistic classifier based on Bayes theorem used to classify the data\n",
    "from sklearn.naive_bayes import GaussianNB\n",
    "model = GaussianNB()\n",
    "model.fit(X_train,y_train)\n",
    "\n",
    "#predicting the test set results\n",
    "nb_y_pred = model.predict(X_test)\n",
    "#Calculating the accuraacy of the algorithm\n",
    "100* accuracy_score(y_test, nb_y_pred)"
   ]
  },
  {
   "attachments": {},
   "cell_type": "markdown",
   "metadata": {},
   "source": [
    "Since the naive bayes algorithm results in the highest accuracy when predicting, we shall tune the naive bayes model"
   ]
  },
  {
   "cell_type": "code",
   "execution_count": 15,
   "metadata": {},
   "outputs": [
    {
     "name": "stdout",
     "output_type": "stream",
     "text": [
      "Fitting 10 folds for each of 100 candidates, totalling 1000 fits\n"
     ]
    },
    {
     "name": "stderr",
     "output_type": "stream",
     "text": [
      "c:\\Users\\Admin\\anaconda3\\lib\\site-packages\\sklearn\\model_selection\\_split.py:700: UserWarning: The least populated class in y has only 1 members, which is less than n_splits=10.\n",
      "  warnings.warn(\n"
     ]
    },
    {
     "name": "stdout",
     "output_type": "stream",
     "text": [
      "GaussianNB(var_smoothing=3.511191734215127e-05)\n"
     ]
    },
    {
     "data": {
      "text/plain": [
       "99.94044960547863"
      ]
     },
     "execution_count": 15,
     "metadata": {},
     "output_type": "execute_result"
    }
   ],
   "source": [
    "import numpy as np\n",
    "from sklearn.model_selection import GridSearchCV\n",
    "\n",
    "param_grid_np = {\n",
    "    \"var_smoothing\": np.logspace(0, -9, num=100)\n",
    "}\n",
    "\n",
    "nbModel_grid = GridSearchCV(estimator=model, param_grid=param_grid_np, verbose=1, cv=10, n_jobs=-1)\n",
    "nbModel_grid.fit(X_train, y_train)\n",
    "print(nbModel_grid.best_estimator_)\n",
    "#predicting the test set results\n",
    "y_pred = nbModel_grid.best_estimator_.predict(X_test)\n",
    "#calculating the accuracy of the tuned naive bayes model\n",
    "100* accuracy_score(y_test, y_pred)"
   ]
  }
 ],
 "metadata": {
  "kernelspec": {
   "display_name": "base",
   "language": "python",
   "name": "python3"
  },
  "language_info": {
   "codemirror_mode": {
    "name": "ipython",
    "version": 3
   },
   "file_extension": ".py",
   "mimetype": "text/x-python",
   "name": "python",
   "nbconvert_exporter": "python",
   "pygments_lexer": "ipython3",
   "version": "3.10.9"
  },
  "orig_nbformat": 4
 },
 "nbformat": 4,
 "nbformat_minor": 2
}
